{
 "cells": [
  {
   "cell_type": "code",
   "execution_count": 21,
   "metadata": {},
   "outputs": [],
   "source": [
    "import numpy as np\n",
    "import pandas as pd\n",
    "import matplotlib.pyplot as plt\n",
    "from sklearn.model_selection import train_test_split\n",
    "from sklearn.preprocessing import LabelEncoder\n",
    "from keras.models import Model\n",
    "from keras.layers import Input, Conv2D, MaxPooling2D, Flatten, Dense, concatenate, GlobalAveragePooling2D\n",
    "from keras.utils import to_categorical\n",
    "from keras.preprocessing.image import ImageDataGenerator\n",
    "from PIL import Image"
   ]
  },
  {
   "cell_type": "code",
   "execution_count": 22,
   "metadata": {},
   "outputs": [],
   "source": [
    "# Load the CSV dataset\n",
    "dataset = pd.read_csv('D:/Thesis Code/datasets/english.csv')"
   ]
  },
  {
   "cell_type": "code",
   "execution_count": 23,
   "metadata": {},
   "outputs": [],
   "source": [
    "image_paths = dataset['image'].values\n",
    "labels = dataset['label'].values"
   ]
  },
  {
   "cell_type": "code",
   "execution_count": 24,
   "metadata": {},
   "outputs": [],
   "source": [
    "label_encoder = LabelEncoder()\n",
    "labels = label_encoder.fit_transform(labels)"
   ]
  },
  {
   "cell_type": "code",
   "execution_count": 25,
   "metadata": {},
   "outputs": [],
   "source": [
    "num_classes = len(label_encoder.classes_)\n",
    "labels = to_categorical(labels, num_classes)"
   ]
  },
  {
   "cell_type": "code",
   "execution_count": 26,
   "metadata": {},
   "outputs": [],
   "source": [
    "# Split the dataset into training and testing sets\n",
    "train_paths, test_paths, train_labels, test_labels = train_test_split(image_paths, labels, test_size=0.2, random_state=42)\n"
   ]
  },
  {
   "cell_type": "code",
   "execution_count": 27,
   "metadata": {},
   "outputs": [],
   "source": [
    "input_shape = (28, 28)\n",
    "batch_size = 32\n",
    "epochs = 100"
   ]
  },
  {
   "cell_type": "code",
   "execution_count": 29,
   "metadata": {},
   "outputs": [],
   "source": [
    "# Create an ImageDataGenerator for data augmentation\n",
    "augmented_datagen = ImageDataGenerator(\n",
    "    rotation_range=20,\n",
    "    width_shift_range=0.2,\n",
    "    height_shift_range=0.2,\n",
    "    zoom_range=0.2,\n",
    "    shear_range=0.2,\n",
    "    fill_mode='nearest'\n",
    ")"
   ]
  },
  {
   "cell_type": "code",
   "execution_count": 30,
   "metadata": {},
   "outputs": [],
   "source": [
    "input_layer = Input(shape=input_shape + (1,))\n",
    "conv1_3x3 = Conv2D(32, kernel_size=(3, 3), activation='relu')(input_layer)\n",
    "conv1_5x5 = Conv2D(32, kernel_size=(5, 5), activation='relu')(input_layer)\n",
    "pool1 = MaxPooling2D(pool_size=(2, 2))(conv1_5x5)\n",
    "\n",
    "conv2_3x3 = Conv2D(64, kernel_size=(3, 3), activation='relu')(pool1)\n",
    "conv2_5x5 = Conv2D(64, kernel_size=(5, 5), activation='relu')(pool1)\n",
    "pool2 = MaxPooling2D(pool_size=(2, 2))(conv2_5x5)\n",
    "\n",
    "# Apply Global Average Pooling to each convolutional stream\n",
    "gap_conv2_3x3 = GlobalAveragePooling2D()(conv2_3x3)\n",
    "gap_conv2_5x5 = GlobalAveragePooling2D()(conv2_5x5)\n",
    "gap_pool2 = GlobalAveragePooling2D()(pool2)\n",
    "\n",
    "# Concatenate the global average pooled features\n",
    "merged = concatenate([gap_conv2_3x3, gap_conv2_5x5, gap_pool2], axis=-1)\n",
    "dense1 = Dense(128, activation='relu')(merged)\n",
    "output_layer = Dense(num_classes, activation='softmax')(dense1)\n",
    "\n",
    "model = Model(inputs=input_layer, outputs=output_layer)"
   ]
  },
  {
   "cell_type": "code",
   "execution_count": 31,
   "metadata": {},
   "outputs": [],
   "source": [
    "# Compile the model\n",
    "model.compile(loss='categorical_crossentropy', optimizer='adam', metrics=['accuracy'])\n"
   ]
  },
  {
   "cell_type": "code",
   "execution_count": 32,
   "metadata": {},
   "outputs": [],
   "source": [
    "# Load and preprocess images from paths\n",
    "def preprocess_image(image_path):\n",
    "    img = Image.open(image_path).convert('L')\n",
    "    img = img.resize(input_shape)\n",
    "    img = np.array(img)\n",
    "    img = img / 255.0\n",
    "    img = img.reshape(input_shape + (1,))\n",
    "    return img"
   ]
  },
  {
   "cell_type": "code",
   "execution_count": 34,
   "metadata": {},
   "outputs": [],
   "source": [
    "# Train the model with data augmentation\n",
    "augmented_train_images = []\n",
    "augmented_train_labels = []\n",
    "\n",
    "for image_path, label in zip(train_paths, train_labels):\n",
    "    img = preprocess_image(image_path)\n",
    "    augmented_images = augmented_datagen.flow(np.expand_dims(img, axis=0), batch_size=32)\n",
    "    for i in range(32):\n",
    "        augmented_train_images.append(augmented_images.next()[0])\n",
    "        augmented_train_labels.append(label)\n",
    "\n",
    "augmented_train_images = np.array(augmented_train_images)\n",
    "augmented_train_labels = np.array(augmented_train_labels)\n",
    "\n",
    "test_images = [preprocess_image(image_path) for image_path in test_paths]\n",
    "test_images = np.array(test_images)"
   ]
  },
  {
   "cell_type": "code",
   "execution_count": 35,
   "metadata": {},
   "outputs": [
    {
     "name": "stdout",
     "output_type": "stream",
     "text": [
      "WARNING:tensorflow:From c:\\Users\\hannah\\anaconda3\\envs\\myenv\\lib\\site-packages\\keras\\backend\\tensorflow_backend.py:422: The name tf.global_variables is deprecated. Please use tf.compat.v1.global_variables instead.\n",
      "\n",
      "Train on 87296 samples, validate on 682 samples\n",
      "Epoch 1/100\n",
      "87296/87296 [==============================] - 30s 339us/step - loss: 2.2978 - accuracy: 0.3733 - val_loss: 0.9678 - val_accuracy: 0.7141\n",
      "Epoch 2/100\n",
      "87296/87296 [==============================] - 30s 341us/step - loss: 0.9963 - accuracy: 0.6901 - val_loss: 0.8157 - val_accuracy: 0.7713\n",
      "Epoch 3/100\n",
      "87296/87296 [==============================] - 30s 339us/step - loss: 0.7065 - accuracy: 0.7695 - val_loss: 0.7181 - val_accuracy: 0.7874\n",
      "Epoch 4/100\n",
      "87296/87296 [==============================] - 30s 338us/step - loss: 0.5667 - accuracy: 0.8094 - val_loss: 0.6539 - val_accuracy: 0.8050\n",
      "Epoch 5/100\n",
      "87296/87296 [==============================] - 29s 337us/step - loss: 0.4767 - accuracy: 0.8343 - val_loss: 0.7546 - val_accuracy: 0.8021\n",
      "Epoch 6/100\n",
      "87296/87296 [==============================] - 29s 338us/step - loss: 0.4184 - accuracy: 0.8526 - val_loss: 0.7343 - val_accuracy: 0.8079\n",
      "Epoch 7/100\n",
      "87296/87296 [==============================] - 30s 346us/step - loss: 0.3709 - accuracy: 0.8648 - val_loss: 0.8590 - val_accuracy: 0.7801\n",
      "Epoch 8/100\n",
      "87296/87296 [==============================] - 30s 341us/step - loss: 0.3372 - accuracy: 0.8759 - val_loss: 0.6569 - val_accuracy: 0.8372\n",
      "Epoch 9/100\n",
      "87296/87296 [==============================] - 29s 336us/step - loss: 0.3103 - accuracy: 0.8841 - val_loss: 0.7643 - val_accuracy: 0.8167\n",
      "Epoch 10/100\n",
      "87296/87296 [==============================] - 29s 336us/step - loss: 0.2865 - accuracy: 0.8914 - val_loss: 0.6583 - val_accuracy: 0.8314\n",
      "Epoch 11/100\n",
      "87296/87296 [==============================] - 29s 337us/step - loss: 0.2644 - accuracy: 0.8979 - val_loss: 0.8323 - val_accuracy: 0.8109\n",
      "Epoch 12/100\n",
      "87296/87296 [==============================] - 29s 337us/step - loss: 0.2486 - accuracy: 0.9046 - val_loss: 0.8369 - val_accuracy: 0.8050\n",
      "Epoch 13/100\n",
      "87296/87296 [==============================] - 29s 336us/step - loss: 0.2312 - accuracy: 0.9095 - val_loss: 0.6699 - val_accuracy: 0.8402\n",
      "Epoch 14/100\n",
      "87296/87296 [==============================] - 29s 337us/step - loss: 0.2208 - accuracy: 0.9136 - val_loss: 0.6738 - val_accuracy: 0.8475\n",
      "Epoch 15/100\n",
      "87296/87296 [==============================] - 29s 334us/step - loss: 0.2071 - accuracy: 0.9187 - val_loss: 0.7648 - val_accuracy: 0.8402\n",
      "Epoch 16/100\n",
      "87296/87296 [==============================] - 29s 328us/step - loss: 0.1950 - accuracy: 0.9229 - val_loss: 0.7834 - val_accuracy: 0.8270\n",
      "Epoch 17/100\n",
      "87296/87296 [==============================] - 30s 341us/step - loss: 0.1885 - accuracy: 0.9261 - val_loss: 0.9256 - val_accuracy: 0.8211\n",
      "Epoch 18/100\n",
      "87296/87296 [==============================] - 30s 344us/step - loss: 0.1798 - accuracy: 0.9279 - val_loss: 0.8040 - val_accuracy: 0.8358\n",
      "Epoch 19/100\n",
      "87296/87296 [==============================] - 30s 343us/step - loss: 0.1720 - accuracy: 0.9316 - val_loss: 0.8384 - val_accuracy: 0.8328\n",
      "Epoch 20/100\n",
      "87296/87296 [==============================] - 30s 344us/step - loss: 0.1632 - accuracy: 0.9350 - val_loss: 1.1490 - val_accuracy: 0.7991\n",
      "Epoch 21/100\n",
      "87296/87296 [==============================] - 30s 343us/step - loss: 0.1587 - accuracy: 0.9367 - val_loss: 0.9899 - val_accuracy: 0.8255\n",
      "Epoch 22/100\n",
      "87296/87296 [==============================] - 30s 342us/step - loss: 0.1523 - accuracy: 0.9382 - val_loss: 0.9578 - val_accuracy: 0.8138\n",
      "Epoch 23/100\n",
      "87296/87296 [==============================] - 30s 345us/step - loss: 0.1470 - accuracy: 0.9409 - val_loss: 0.8950 - val_accuracy: 0.8402\n",
      "Epoch 24/100\n",
      "87296/87296 [==============================] - 32s 371us/step - loss: 0.1405 - accuracy: 0.9434 - val_loss: 0.9895 - val_accuracy: 0.8314\n",
      "Epoch 25/100\n",
      "87296/87296 [==============================] - 32s 362us/step - loss: 0.1347 - accuracy: 0.9463 - val_loss: 0.9751 - val_accuracy: 0.8284\n",
      "Epoch 26/100\n",
      "87296/87296 [==============================] - 32s 366us/step - loss: 0.1322 - accuracy: 0.9467 - val_loss: 1.2269 - val_accuracy: 0.8065\n",
      "Epoch 27/100\n",
      "87296/87296 [==============================] - 29s 333us/step - loss: 0.1272 - accuracy: 0.9490 - val_loss: 1.0312 - val_accuracy: 0.8270\n",
      "Epoch 28/100\n",
      "87296/87296 [==============================] - 31s 353us/step - loss: 0.1196 - accuracy: 0.9521 - val_loss: 1.1382 - val_accuracy: 0.8284\n",
      "Epoch 29/100\n",
      "87296/87296 [==============================] - 30s 342us/step - loss: 0.1187 - accuracy: 0.9529 - val_loss: 1.0975 - val_accuracy: 0.8211\n",
      "Epoch 30/100\n",
      "87296/87296 [==============================] - 30s 343us/step - loss: 0.1158 - accuracy: 0.9529 - val_loss: 1.0744 - val_accuracy: 0.8314\n",
      "Epoch 31/100\n",
      "87296/87296 [==============================] - 30s 341us/step - loss: 0.1121 - accuracy: 0.9548 - val_loss: 0.9964 - val_accuracy: 0.8416\n",
      "Epoch 32/100\n",
      "87296/87296 [==============================] - 30s 341us/step - loss: 0.1062 - accuracy: 0.9571 - val_loss: 1.1562 - val_accuracy: 0.8299\n",
      "Epoch 33/100\n",
      "87296/87296 [==============================] - 30s 340us/step - loss: 0.1066 - accuracy: 0.9565 - val_loss: 1.0735 - val_accuracy: 0.8240\n",
      "Epoch 34/100\n",
      "87296/87296 [==============================] - 30s 340us/step - loss: 0.1030 - accuracy: 0.9588 - val_loss: 1.1203 - val_accuracy: 0.8299\n",
      "Epoch 35/100\n",
      "87296/87296 [==============================] - 30s 342us/step - loss: 0.1013 - accuracy: 0.9593 - val_loss: 1.1329 - val_accuracy: 0.8343\n",
      "Epoch 36/100\n",
      "87296/87296 [==============================] - 30s 342us/step - loss: 0.0976 - accuracy: 0.9611 - val_loss: 1.2207 - val_accuracy: 0.8167\n",
      "Epoch 37/100\n",
      "87296/87296 [==============================] - 30s 342us/step - loss: 0.0937 - accuracy: 0.9628 - val_loss: 1.1955 - val_accuracy: 0.8182\n",
      "Epoch 38/100\n",
      "87296/87296 [==============================] - 30s 340us/step - loss: 0.0934 - accuracy: 0.9626 - val_loss: 1.2262 - val_accuracy: 0.8255\n",
      "Epoch 39/100\n",
      "87296/87296 [==============================] - 30s 340us/step - loss: 0.0904 - accuracy: 0.9632 - val_loss: 1.1962 - val_accuracy: 0.8240\n",
      "Epoch 40/100\n",
      "87296/87296 [==============================] - 30s 342us/step - loss: 0.0906 - accuracy: 0.9638 - val_loss: 1.2082 - val_accuracy: 0.8490\n",
      "Epoch 41/100\n",
      "87296/87296 [==============================] - 30s 340us/step - loss: 0.0838 - accuracy: 0.9663 - val_loss: 1.3044 - val_accuracy: 0.8255\n",
      "Epoch 42/100\n",
      "87296/87296 [==============================] - 30s 340us/step - loss: 0.0843 - accuracy: 0.9662 - val_loss: 1.3047 - val_accuracy: 0.8299\n",
      "Epoch 43/100\n",
      "87296/87296 [==============================] - 30s 340us/step - loss: 0.0835 - accuracy: 0.9664 - val_loss: 1.3564 - val_accuracy: 0.8314\n",
      "Epoch 44/100\n",
      "87296/87296 [==============================] - 30s 340us/step - loss: 0.0804 - accuracy: 0.9686 - val_loss: 1.3128 - val_accuracy: 0.8372\n",
      "Epoch 45/100\n",
      "87296/87296 [==============================] - 30s 341us/step - loss: 0.0781 - accuracy: 0.9691 - val_loss: 1.5187 - val_accuracy: 0.8240\n",
      "Epoch 46/100\n",
      "87296/87296 [==============================] - 30s 342us/step - loss: 0.0777 - accuracy: 0.9696 - val_loss: 1.3980 - val_accuracy: 0.8402\n",
      "Epoch 47/100\n",
      "87296/87296 [==============================] - 30s 341us/step - loss: 0.0767 - accuracy: 0.9693 - val_loss: 1.3349 - val_accuracy: 0.8416\n",
      "Epoch 48/100\n",
      "87296/87296 [==============================] - 30s 344us/step - loss: 0.0728 - accuracy: 0.9708 - val_loss: 1.7199 - val_accuracy: 0.8123\n",
      "Epoch 49/100\n",
      "87296/87296 [==============================] - 29s 334us/step - loss: 0.0725 - accuracy: 0.9711 - val_loss: 1.3803 - val_accuracy: 0.8328\n",
      "Epoch 50/100\n",
      "87296/87296 [==============================] - 29s 335us/step - loss: 0.0717 - accuracy: 0.9720 - val_loss: 1.3385 - val_accuracy: 0.8328\n",
      "Epoch 51/100\n",
      "87296/87296 [==============================] - 29s 334us/step - loss: 0.0712 - accuracy: 0.9717 - val_loss: 1.4711 - val_accuracy: 0.8431\n",
      "Epoch 52/100\n",
      "87296/87296 [==============================] - 29s 335us/step - loss: 0.0680 - accuracy: 0.9732 - val_loss: 1.5825 - val_accuracy: 0.8402\n",
      "Epoch 53/100\n",
      "87296/87296 [==============================] - 29s 335us/step - loss: 0.0645 - accuracy: 0.9744 - val_loss: 1.7382 - val_accuracy: 0.8299\n",
      "Epoch 54/100\n",
      "87296/87296 [==============================] - 29s 334us/step - loss: 0.0667 - accuracy: 0.9731 - val_loss: 1.6428 - val_accuracy: 0.8314\n",
      "Epoch 55/100\n",
      "87296/87296 [==============================] - 29s 333us/step - loss: 0.0644 - accuracy: 0.9745 - val_loss: 1.5599 - val_accuracy: 0.8314\n",
      "Epoch 56/100\n",
      "87296/87296 [==============================] - 29s 335us/step - loss: 0.0657 - accuracy: 0.9744 - val_loss: 1.7208 - val_accuracy: 0.8240\n",
      "Epoch 57/100\n",
      "87296/87296 [==============================] - 29s 334us/step - loss: 0.0631 - accuracy: 0.9753 - val_loss: 1.7443 - val_accuracy: 0.8109\n",
      "Epoch 58/100\n",
      "87296/87296 [==============================] - 29s 334us/step - loss: 0.0581 - accuracy: 0.9770 - val_loss: 1.7608 - val_accuracy: 0.8255\n",
      "Epoch 59/100\n",
      "87296/87296 [==============================] - 29s 334us/step - loss: 0.0580 - accuracy: 0.9770 - val_loss: 1.6561 - val_accuracy: 0.8094\n",
      "Epoch 60/100\n",
      "87296/87296 [==============================] - 29s 336us/step - loss: 0.0604 - accuracy: 0.9768 - val_loss: 1.8801 - val_accuracy: 0.8270\n",
      "Epoch 61/100\n",
      "87296/87296 [==============================] - 29s 335us/step - loss: 0.0566 - accuracy: 0.9778 - val_loss: 1.7484 - val_accuracy: 0.8343\n",
      "Epoch 62/100\n",
      "87296/87296 [==============================] - 29s 334us/step - loss: 0.0549 - accuracy: 0.9786 - val_loss: 1.6479 - val_accuracy: 0.8343\n",
      "Epoch 63/100\n",
      "87296/87296 [==============================] - 29s 336us/step - loss: 0.0561 - accuracy: 0.9780 - val_loss: 2.0069 - val_accuracy: 0.8387\n",
      "Epoch 64/100\n",
      "87296/87296 [==============================] - 29s 334us/step - loss: 0.0556 - accuracy: 0.9788 - val_loss: 1.7763 - val_accuracy: 0.8240\n",
      "Epoch 65/100\n",
      "87296/87296 [==============================] - 29s 335us/step - loss: 0.0551 - accuracy: 0.9786 - val_loss: 1.6300 - val_accuracy: 0.8504\n",
      "Epoch 66/100\n",
      "87296/87296 [==============================] - 29s 334us/step - loss: 0.0548 - accuracy: 0.9786 - val_loss: 1.9747 - val_accuracy: 0.8167\n",
      "Epoch 67/100\n",
      "87296/87296 [==============================] - 29s 334us/step - loss: 0.0524 - accuracy: 0.9798 - val_loss: 1.9835 - val_accuracy: 0.8314\n",
      "Epoch 68/100\n",
      "87296/87296 [==============================] - 29s 334us/step - loss: 0.0506 - accuracy: 0.9808 - val_loss: 1.7730 - val_accuracy: 0.8343\n",
      "Epoch 69/100\n",
      "87296/87296 [==============================] - 29s 333us/step - loss: 0.0500 - accuracy: 0.9814 - val_loss: 2.0429 - val_accuracy: 0.8328\n",
      "Epoch 70/100\n",
      "87296/87296 [==============================] - 30s 338us/step - loss: 0.0496 - accuracy: 0.9805 - val_loss: 2.0482 - val_accuracy: 0.8255\n",
      "Epoch 71/100\n",
      "87296/87296 [==============================] - 29s 336us/step - loss: 0.0502 - accuracy: 0.9808 - val_loss: 1.9761 - val_accuracy: 0.8343\n",
      "Epoch 72/100\n",
      "87296/87296 [==============================] - 29s 334us/step - loss: 0.0461 - accuracy: 0.9826 - val_loss: 2.1158 - val_accuracy: 0.8328\n",
      "Epoch 73/100\n",
      "87296/87296 [==============================] - 29s 333us/step - loss: 0.0461 - accuracy: 0.9827 - val_loss: 2.0141 - val_accuracy: 0.8314\n",
      "Epoch 74/100\n",
      "87296/87296 [==============================] - 29s 333us/step - loss: 0.0482 - accuracy: 0.9822 - val_loss: 2.0257 - val_accuracy: 0.8402\n",
      "Epoch 75/100\n",
      "87296/87296 [==============================] - 29s 334us/step - loss: 0.0473 - accuracy: 0.9826 - val_loss: 2.2578 - val_accuracy: 0.8314\n",
      "Epoch 76/100\n",
      "87296/87296 [==============================] - 29s 334us/step - loss: 0.0473 - accuracy: 0.9826 - val_loss: 2.1186 - val_accuracy: 0.8196\n",
      "Epoch 77/100\n",
      "87296/87296 [==============================] - 29s 334us/step - loss: 0.0452 - accuracy: 0.9835 - val_loss: 1.9995 - val_accuracy: 0.8314\n",
      "Epoch 78/100\n",
      "87296/87296 [==============================] - 29s 333us/step - loss: 0.0449 - accuracy: 0.9833 - val_loss: 2.2360 - val_accuracy: 0.8299\n",
      "Epoch 79/100\n",
      "87296/87296 [==============================] - 29s 337us/step - loss: 0.0430 - accuracy: 0.9834 - val_loss: 2.1518 - val_accuracy: 0.8182\n",
      "Epoch 80/100\n",
      "87296/87296 [==============================] - 29s 334us/step - loss: 0.0436 - accuracy: 0.9840 - val_loss: 2.4999 - val_accuracy: 0.8182\n",
      "Epoch 81/100\n",
      "87296/87296 [==============================] - 29s 336us/step - loss: 0.0423 - accuracy: 0.9844 - val_loss: 2.1543 - val_accuracy: 0.8519\n",
      "Epoch 82/100\n",
      "87296/87296 [==============================] - 29s 330us/step - loss: 0.0429 - accuracy: 0.9845 - val_loss: 2.2556 - val_accuracy: 0.8255\n",
      "Epoch 83/100\n",
      "87296/87296 [==============================] - 29s 329us/step - loss: 0.0412 - accuracy: 0.9846 - val_loss: 2.0487 - val_accuracy: 0.8299\n",
      "Epoch 84/100\n",
      "87296/87296 [==============================] - 29s 330us/step - loss: 0.0420 - accuracy: 0.9845 - val_loss: 2.5008 - val_accuracy: 0.8328\n",
      "Epoch 85/100\n",
      "87296/87296 [==============================] - 29s 330us/step - loss: 0.0420 - accuracy: 0.9846 - val_loss: 2.4440 - val_accuracy: 0.8402\n",
      "Epoch 86/100\n",
      "87296/87296 [==============================] - 29s 331us/step - loss: 0.0396 - accuracy: 0.9858 - val_loss: 2.3939 - val_accuracy: 0.8328\n",
      "Epoch 87/100\n",
      "87296/87296 [==============================] - 29s 331us/step - loss: 0.0401 - accuracy: 0.9852 - val_loss: 2.5249 - val_accuracy: 0.8358\n",
      "Epoch 88/100\n",
      "87296/87296 [==============================] - 29s 333us/step - loss: 0.0396 - accuracy: 0.9858 - val_loss: 2.1799 - val_accuracy: 0.8343\n",
      "Epoch 89/100\n",
      "87296/87296 [==============================] - 29s 331us/step - loss: 0.0396 - accuracy: 0.9855 - val_loss: 2.4608 - val_accuracy: 0.8226\n",
      "Epoch 90/100\n",
      "87296/87296 [==============================] - 29s 332us/step - loss: 0.0382 - accuracy: 0.9860 - val_loss: 2.5415 - val_accuracy: 0.8240\n",
      "Epoch 91/100\n",
      "87296/87296 [==============================] - 29s 334us/step - loss: 0.0389 - accuracy: 0.9863 - val_loss: 2.5848 - val_accuracy: 0.8167\n",
      "Epoch 92/100\n",
      "87296/87296 [==============================] - 29s 334us/step - loss: 0.0388 - accuracy: 0.9862 - val_loss: 2.6265 - val_accuracy: 0.8211\n",
      "Epoch 93/100\n",
      "87296/87296 [==============================] - 29s 331us/step - loss: 0.0381 - accuracy: 0.9863 - val_loss: 2.6770 - val_accuracy: 0.8314\n",
      "Epoch 94/100\n",
      "87296/87296 [==============================] - 29s 332us/step - loss: 0.0362 - accuracy: 0.9871 - val_loss: 2.3647 - val_accuracy: 0.8314\n",
      "Epoch 95/100\n",
      "87296/87296 [==============================] - 29s 331us/step - loss: 0.0377 - accuracy: 0.9861 - val_loss: 2.3399 - val_accuracy: 0.8284\n",
      "Epoch 96/100\n",
      "87296/87296 [==============================] - 29s 334us/step - loss: 0.0378 - accuracy: 0.9870 - val_loss: 2.5552 - val_accuracy: 0.8255\n",
      "Epoch 97/100\n",
      "87296/87296 [==============================] - 29s 335us/step - loss: 0.0342 - accuracy: 0.9876 - val_loss: 2.9187 - val_accuracy: 0.8211\n",
      "Epoch 98/100\n",
      "87296/87296 [==============================] - 29s 331us/step - loss: 0.0368 - accuracy: 0.9873 - val_loss: 2.4524 - val_accuracy: 0.8372\n",
      "Epoch 99/100\n",
      "87296/87296 [==============================] - 29s 332us/step - loss: 0.0350 - accuracy: 0.9874 - val_loss: 2.3646 - val_accuracy: 0.8475\n",
      "Epoch 100/100\n",
      "87296/87296 [==============================] - 29s 331us/step - loss: 0.0364 - accuracy: 0.9880 - val_loss: 2.9604 - val_accuracy: 0.8109\n"
     ]
    }
   ],
   "source": [
    "history = model.fit(\n",
    "    augmented_train_images,\n",
    "    augmented_train_labels,\n",
    "    batch_size=batch_size,\n",
    "    epochs=epochs,\n",
    "    validation_data=(test_images, test_labels),\n",
    "    verbose=1\n",
    ")"
   ]
  },
  {
   "cell_type": "code",
   "execution_count": 36,
   "metadata": {},
   "outputs": [
    {
     "name": "stdout",
     "output_type": "stream",
     "text": [
      "Test accuracy: 0.8108504414558411\n"
     ]
    }
   ],
   "source": [
    "# Evaluate the model\n",
    "accuracy = model.evaluate(test_images, test_labels, verbose=0)[1]\n",
    "print(\"Test accuracy:\", accuracy)"
   ]
  },
  {
   "cell_type": "code",
   "execution_count": 41,
   "metadata": {},
   "outputs": [
    {
     "data": {
      "image/png": "[encoded data removed]",
      "text/plain": [
       "<Figure size 1000x400 with 2 Axes>"
      ]
     },
     "metadata": {},
     "output_type": "display_data"
    },
    {
     "name": "stdout",
     "output_type": "stream",
     "text": [
      "Final training accuracy: 0.9880\n",
      "Final validation accuracy: 0.8109\n",
      "The model might be overfitting the training data.\n"
     ]
    }
   ],
   "source": [
    "# Plot training history\n",
    "plt.figure(figsize=(10, 4))\n",
    "plt.subplot(1, 2, 1)\n",
    "plt.plot(history.history['accuracy'], label='Training Accuracy')\n",
    "plt.plot(history.history['val_accuracy'], label='Validation Accuracy')\n",
    "plt.xlabel('Epoch')\n",
    "plt.ylabel('Accuracy')\n",
    "plt.title('Training and Validation Accuracy')\n",
    "plt.legend()\n",
    "\n",
    "plt.subplot(1, 2, 2)\n",
    "plt.plot(history.history['loss'], label='Training Loss')\n",
    "plt.plot(history.history['val_loss'], label='Validation Loss')\n",
    "plt.xlabel('Epoch')\n",
    "plt.ylabel('Loss')\n",
    "plt.title('Training and Validation Loss')\n",
    "plt.legend()\n",
    "\n",
    "plt.tight_layout()\n",
    "plt.show()\n",
    "\n",
    "# Assess model performance\n",
    "final_train_accuracy = history.history['accuracy'][-1]\n",
    "final_val_accuracy = history.history['val_accuracy'][-1]\n",
    "print(f\"Final training accuracy: {final_train_accuracy:.4f}\")\n",
    "print(f\"Final validation accuracy: {final_val_accuracy:.4f}\")\n",
    "\n",
    "# Check for overfitting or underfitting\n",
    "if final_train_accuracy > final_val_accuracy:\n",
    "    print(\"The model might be overfitting the training data.\")\n",
    "elif final_train_accuracy < final_val_accuracy:\n",
    "    print(\"The model might be underfitting the training data.\")\n",
    "else:\n",
    "    print(\"The model's training and validation accuracies are balanced.\")"
   ]
  },
  {
   "cell_type": "code",
   "execution_count": 40,
   "metadata": {},
   "outputs": [
    {
     "name": "stdout",
     "output_type": "stream",
     "text": [
      "Predicted label: 0\n"
     ]
    },
    {
     "data": {
      "image/png": "[encoded data removed]",
      "text/plain": [
       "<Figure size 640x480 with 1 Axes>"
      ]
     },
     "metadata": {},
     "output_type": "display_data"
    },
    {
     "data": {
      "text/plain": [
       "<Figure size 1000x400 with 0 Axes>"
      ]
     },
     "execution_count": 40,
     "metadata": {},
     "output_type": "execute_result"
    },
    {
     "data": {
      "text/plain": [
       "<Figure size 1000x400 with 0 Axes>"
      ]
     },
     "metadata": {},
     "output_type": "display_data"
    }
   ],
   "source": [
    "\n",
    "# Predict using the trained model\n",
    "sample_image_path = 'Img/img001-002.png'  # Replace with the path to your sample image\n",
    "sample_image = preprocess_image(sample_image_path)\n",
    "sample_image = np.expand_dims(sample_image, axis=0)\n",
    "prediction = model.predict(sample_image)\n",
    "predicted_label = np.argmax(prediction)\n",
    "\n",
    "# Decode the predicted label using the label encoder\n",
    "decoded_predicted_label = label_encoder.inverse_transform([predicted_label])[0]\n",
    "print(\"Predicted label:\", decoded_predicted_label)\n",
    "\n",
    "# Display the sample image along with the prediction\n",
    "plt.imshow(sample_image[0, :, :, 0], cmap='gray')\n",
    "plt.title(f\"Predicted label: {decoded_predicted_label}\")\n",
    "plt.axis('off')\n",
    "plt.show()\n",
    "\n",
    "# Plot training history\n",
    "plt.figure(figsize=(10, 4))"
   ]
  }
 ],
 "metadata": {
  "kernelspec": {
   "display_name": "Python 3",
   "language": "python",
   "name": "python3"
  },
  "language_info": {
   "codemirror_mode": {
    "name": "ipython",
    "version": 3
   },
   "file_extension": ".py",
   "mimetype": "text/x-python",
   "name": "python",
   "nbconvert_exporter": "python",
   "pygments_lexer": "ipython3",
   "version": "3.7.5"
  },
  "orig_nbformat": 4
 },
 "nbformat": 4,
 "nbformat_minor": 2
}
